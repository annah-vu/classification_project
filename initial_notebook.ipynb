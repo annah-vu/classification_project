{
 "cells": [
  {
   "cell_type": "markdown",
   "metadata": {},
   "source": [
    "# Plan Stage"
   ]
  },
  {
   "cell_type": "raw",
   "metadata": {},
   "source": [
    "-Create an acquire.py\n",
    "-Create a prepare.py"
   ]
  },
  {
   "cell_type": "code",
   "execution_count": null,
   "metadata": {},
   "outputs": [],
   "source": []
  },
  {
   "cell_type": "markdown",
   "metadata": {},
   "source": [
    "# Acquire Stage"
   ]
  },
  {
   "cell_type": "code",
   "execution_count": 1,
   "metadata": {},
   "outputs": [],
   "source": [
    "import pandas as pd \n",
    "import numpy as np\n",
    "import seaborn as sns\n",
    "from acquire import get_connection, new_telco_churn_data, get_telco_churn_data\n",
    "from env import username, host, password"
   ]
  },
  {
   "cell_type": "code",
   "execution_count": null,
   "metadata": {},
   "outputs": [],
   "source": [
    "get_connection('telco_churn', username, host, password)\n",
    "print('works')"
   ]
  },
  {
   "cell_type": "code",
   "execution_count": null,
   "metadata": {},
   "outputs": [],
   "source": [
    "df = new_telco_churn_data()"
   ]
  },
  {
   "cell_type": "code",
   "execution_count": null,
   "metadata": {},
   "outputs": [],
   "source": [
    "df.head()"
   ]
  },
  {
   "cell_type": "code",
   "execution_count": null,
   "metadata": {},
   "outputs": [],
   "source": [
    "df = get_telco_churn_data()"
   ]
  },
  {
   "cell_type": "code",
   "execution_count": null,
   "metadata": {},
   "outputs": [],
   "source": [
    "df.head()"
   ]
  },
  {
   "cell_type": "code",
   "execution_count": null,
   "metadata": {},
   "outputs": [],
   "source": [
    "df.info()"
   ]
  },
  {
   "cell_type": "code",
   "execution_count": null,
   "metadata": {},
   "outputs": [],
   "source": [
    "df.describe().transpose()"
   ]
  },
  {
   "cell_type": "code",
   "execution_count": null,
   "metadata": {},
   "outputs": [],
   "source": [
    "df.value_counts"
   ]
  },
  {
   "cell_type": "code",
   "execution_count": null,
   "metadata": {},
   "outputs": [],
   "source": [
    "sns.distplot(df.tenure)"
   ]
  },
  {
   "cell_type": "code",
   "execution_count": null,
   "metadata": {},
   "outputs": [],
   "source": [
    "sns.distplot(df.senior_citizen)"
   ]
  },
  {
   "cell_type": "code",
   "execution_count": null,
   "metadata": {},
   "outputs": [],
   "source": [
    "sns.distplot(df.monthly_charges)"
   ]
  },
  {
   "cell_type": "code",
   "execution_count": null,
   "metadata": {},
   "outputs": [],
   "source": []
  },
  {
   "cell_type": "code",
   "execution_count": null,
   "metadata": {},
   "outputs": [],
   "source": [
    "#acquire pieces work "
   ]
  },
  {
   "cell_type": "markdown",
   "metadata": {},
   "source": [
    "# Prepare Stage"
   ]
  },
  {
   "cell_type": "code",
   "execution_count": 2,
   "metadata": {},
   "outputs": [],
   "source": [
    "import pandas as pd\n",
    "import numpy as np\n",
    "import os\n",
    "import matplotlib.pyplot as plt\n",
    "from sklearn.model_selection import train_test_split\n",
    "\n",
    "from sklearn.model_selection import train_test_split\n",
    "from env import host, username, password\n",
    "from acquire import get_connection, new_telco_churn_data, get_telco_churn_data\n",
    "from prepare import num_distributions, clean_telco_churn, telco_churn_split, prep_telco_churn\n"
   ]
  },
  {
   "cell_type": "code",
   "execution_count": null,
   "metadata": {},
   "outputs": [],
   "source": [
    "df.total_charges = pd.to_numeric(df.total_charges, errors='coerce').astype('float64')\n",
    "df.total_charges = df.total_charges.fillna(value=0)\n",
    "df.info()"
   ]
  },
  {
   "cell_type": "code",
   "execution_count": null,
   "metadata": {},
   "outputs": [],
   "source": [
    "df.tail()"
   ]
  },
  {
   "cell_type": "code",
   "execution_count": null,
   "metadata": {},
   "outputs": [],
   "source": [
    "df.replace('No internet service', 'No', inplace=True)"
   ]
  },
  {
   "cell_type": "code",
   "execution_count": null,
   "metadata": {},
   "outputs": [],
   "source": [
    "df.replace('No phone service', 'No', inplace = True)"
   ]
  },
  {
   "cell_type": "code",
   "execution_count": null,
   "metadata": {},
   "outputs": [],
   "source": [
    "df.head()"
   ]
  },
  {
   "cell_type": "code",
   "execution_count": null,
   "metadata": {},
   "outputs": [],
   "source": [
    "df[\"is_female\"] = df.gender == \"Female\"\n",
    "df['is_female'] = (df['is_female']).astype(int)\n",
    "\n",
    "df[\"partner\"] = df.partner == \"Yes\"\n",
    "df['partner'] = (df['partner']).astype(int)\n",
    "\n",
    "df[\"dependents\"] = df.dependents == \"Yes\"\n",
    "df['dependents'] = (df['dependents']).astype(int)\n",
    "\n",
    "df[\"phone_service\"] = df.phone_service == \"Yes\"\n",
    "df['phone_service'] = (df['phone_service']).astype(int)\n",
    "\n",
    "df[\"streaming_tv\"] = df.streaming_tv == \"Yes\"\n",
    "df['streaming_tv'] = (df['streaming_tv']).astype(int)\n",
    "\n",
    "df[\"streaming_movies\"] = df.streaming_movies == \"Yes\"\n",
    "df['streaming_movies'] = (df['streaming_movies']).astype(int)\n",
    "\n",
    "df[\"paperless_billing\"] = df.paperless_billing == \"Yes\"\n",
    "df['paperless_billing'] = (df['paperless_billing']).astype(int)\n",
    "\n",
    "df[\"churn\"] = df.churn == \"Yes\"\n",
    "df['churn'] = (df['churn']).astype(int)\n",
    "\n",
    "df[\"multiple_lines\"] = df.multiple_lines == \"Yes\"\n",
    "df['multiple_lines'] = (df['multiple_lines']).astype(int)\n",
    "\n",
    "df[\"online_security\"] = df.online_security == \"Yes\"\n",
    "df['online_security'] = (df['online_security']).astype(int)\n",
    "\n",
    "df[\"online_backup\"] = df.online_backup == \"Yes\"\n",
    "df['online_backup'] = (df['online_backup']).astype(int)\n",
    "\n",
    "df[\"device_protection\"] = df.device_protection == \"Yes\"\n",
    "df['device_protection'] = (df['device_protection']).astype(int)\n",
    "\n",
    "df[\"tech_support\"] = df.tech_support == \"Yes\"\n",
    "df['tech_support'] = (df['tech_support']).astype(int)"
   ]
  },
  {
   "cell_type": "code",
   "execution_count": null,
   "metadata": {},
   "outputs": [],
   "source": [
    "df.head()"
   ]
  },
  {
   "cell_type": "code",
   "execution_count": null,
   "metadata": {},
   "outputs": [],
   "source": [
    "df = df.drop(columns =['payment_type_id', 'contract_type_id', 'internet_service_type_id'])"
   ]
  },
  {
   "cell_type": "code",
   "execution_count": null,
   "metadata": {},
   "outputs": [],
   "source": [
    "df.head()"
   ]
  },
  {
   "cell_type": "code",
   "execution_count": null,
   "metadata": {},
   "outputs": [],
   "source": [
    "df = df.drop(columns=['customer_id', 'gender'])"
   ]
  },
  {
   "cell_type": "code",
   "execution_count": null,
   "metadata": {},
   "outputs": [],
   "source": [
    "df.tail()"
   ]
  },
  {
   "cell_type": "code",
   "execution_count": null,
   "metadata": {},
   "outputs": [],
   "source": [
    "dummy_df = pd.get_dummies(df[['internet_service_type', 'contract_type','payment_type']], drop_first=False)"
   ]
  },
  {
   "cell_type": "code",
   "execution_count": null,
   "metadata": {},
   "outputs": [],
   "source": [
    "dummy_df.head()"
   ]
  },
  {
   "cell_type": "code",
   "execution_count": null,
   "metadata": {},
   "outputs": [],
   "source": [
    "dummy_df = dummy_df.rename(columns={'internet_service_type_DSL': 'dsl',\n",
    "                                   'internet_service_type_Fiber optic': 'fiber_optic',\n",
    "                                   'internet_service_type_None': 'no_internet',\n",
    "                                   'contract_type_Month-to-month': 'monthly',\n",
    "                                   'contract_type_One year': 'one_year',\n",
    "                                   'contract_type_Two year': 'two_year',\n",
    "                                   'payment_type_Bank transfer (automatic)': 'bank_transfer',\n",
    "                                   'payment_type_Credit card (automatic)': 'credit_card',\n",
    "                                   'payment_type_Electronic check': 'electronic_check',\n",
    "                                   'payment_type_Mailed check': 'mailed_check'})"
   ]
  },
  {
   "cell_type": "code",
   "execution_count": null,
   "metadata": {},
   "outputs": [],
   "source": [
    "dummy_df.head()"
   ]
  },
  {
   "cell_type": "code",
   "execution_count": null,
   "metadata": {},
   "outputs": [],
   "source": [
    "dummy_df = dummy_df.rename(columns={'DSL': 'dsl'})"
   ]
  },
  {
   "cell_type": "code",
   "execution_count": null,
   "metadata": {},
   "outputs": [],
   "source": [
    "dummy_df.head()"
   ]
  },
  {
   "cell_type": "code",
   "execution_count": null,
   "metadata": {},
   "outputs": [],
   "source": [
    "df = pd.concat([df, dummy_df], axis =1)"
   ]
  },
  {
   "cell_type": "code",
   "execution_count": null,
   "metadata": {},
   "outputs": [],
   "source": [
    "df.head()"
   ]
  },
  {
   "cell_type": "code",
   "execution_count": null,
   "metadata": {},
   "outputs": [],
   "source": [
    "df.info()"
   ]
  },
  {
   "cell_type": "code",
   "execution_count": null,
   "metadata": {},
   "outputs": [],
   "source": [
    "df = df.drop(columns=['internet_service_type','contract_type','payment_type'])"
   ]
  },
  {
   "cell_type": "code",
   "execution_count": null,
   "metadata": {},
   "outputs": [],
   "source": [
    "df.info()"
   ]
  },
  {
   "cell_type": "code",
   "execution_count": null,
   "metadata": {},
   "outputs": [],
   "source": [
    "df.churn.value_counts()"
   ]
  },
  {
   "cell_type": "code",
   "execution_count": null,
   "metadata": {},
   "outputs": [],
   "source": [
    "df.no_internet.value_counts()"
   ]
  },
  {
   "cell_type": "code",
   "execution_count": null,
   "metadata": {},
   "outputs": [],
   "source": [
    "df.dependents.value_counts()"
   ]
  },
  {
   "cell_type": "code",
   "execution_count": 3,
   "metadata": {},
   "outputs": [],
   "source": [
    "df = get_telco_churn_data()"
   ]
  },
  {
   "cell_type": "code",
   "execution_count": null,
   "metadata": {},
   "outputs": [],
   "source": [
    "df = clean_telco_churn(df)"
   ]
  },
  {
   "cell_type": "code",
   "execution_count": null,
   "metadata": {},
   "outputs": [],
   "source": [
    "df.head()"
   ]
  },
  {
   "cell_type": "code",
   "execution_count": 4,
   "metadata": {},
   "outputs": [
    {
     "data": {
      "text/plain": [
       "(      senior_citizen  partner  dependents  tenure  phone_service  \\\n",
       " 5707               1        1           0      72              1   \n",
       " 4471               0        1           1      56              1   \n",
       " 4994               1        0           0      60              1   \n",
       " 3458               1        1           0      25              1   \n",
       " 3818               0        0           0      20              1   \n",
       " ...              ...      ...         ...     ...            ...   \n",
       " 4258               1        1           0      54              1   \n",
       " 328                0        0           0      15              1   \n",
       " 1405               1        1           0       1              1   \n",
       " 4266               1        1           0      60              1   \n",
       " 6864               0        1           0      67              1   \n",
       " \n",
       "       multiple_lines  online_security  online_backup  device_protection  \\\n",
       " 5707               1                0              0                  0   \n",
       " 4471               0                0              0                  0   \n",
       " 4994               1                1              1                  0   \n",
       " 3458               1                1              0                  0   \n",
       " 3818               1                1              0                  0   \n",
       " ...              ...              ...            ...                ...   \n",
       " 4258               1                0              1                  0   \n",
       " 328                0                0              0                  0   \n",
       " 1405               1                0              0                  0   \n",
       " 4266               1                0              0                  1   \n",
       " 6864               0                1              1                  0   \n",
       " \n",
       "       tech_support  ...  dsl  fiber_optic  no_internet  monthly  one_year  \\\n",
       " 5707             0  ...    0            0            1        0         0   \n",
       " 4471             0  ...    0            1            0        0         1   \n",
       " 4994             0  ...    1            0            0        0         1   \n",
       " 3458             1  ...    1            0            0        1         0   \n",
       " 3818             1  ...    1            0            0        1         0   \n",
       " ...            ...  ...  ...          ...          ...      ...       ...   \n",
       " 4258             0  ...    0            1            0        0         1   \n",
       " 328              0  ...    0            0            1        1         0   \n",
       " 1405             0  ...    0            1            0        1         0   \n",
       " 4266             0  ...    0            1            0        0         1   \n",
       " 6864             1  ...    1            0            0        0         0   \n",
       " \n",
       "       two_year  bank_transfer  credit_card  electronic_check  mailed_check  \n",
       " 5707         1              1            0                 0             0  \n",
       " 4471         0              1            0                 0             0  \n",
       " 4994         0              0            0                 1             0  \n",
       " 3458         0              0            1                 0             0  \n",
       " 3818         0              1            0                 0             0  \n",
       " ...        ...            ...          ...               ...           ...  \n",
       " 4258         0              0            1                 0             0  \n",
       " 328          0              0            0                 0             1  \n",
       " 1405         0              0            0                 1             0  \n",
       " 4266         0              0            1                 0             0  \n",
       " 6864         1              0            1                 0             0  \n",
       " \n",
       " [3943 rows x 27 columns],\n",
       "       senior_citizen  partner  dependents  tenure  phone_service  \\\n",
       " 706                0        1           0      20              1   \n",
       " 3590               0        0           0      22              1   \n",
       " 4974               0        0           0      56              1   \n",
       " 5881               0        1           0      70              1   \n",
       " 594                0        0           0       3              1   \n",
       " ...              ...      ...         ...     ...            ...   \n",
       " 5081               0        1           1      48              1   \n",
       " 1125               0        0           0       1              1   \n",
       " 518                0        0           0      11              1   \n",
       " 6344               0        1           1      38              1   \n",
       " 4082               0        0           1      27              1   \n",
       " \n",
       "       multiple_lines  online_security  online_backup  device_protection  \\\n",
       " 706                1                1              0                  0   \n",
       " 3590               0                1              0                  0   \n",
       " 4974               0                1              0                  1   \n",
       " 5881               0                0              0                  0   \n",
       " 594                0                0              1                  0   \n",
       " ...              ...              ...            ...                ...   \n",
       " 5081               0                0              1                  1   \n",
       " 1125               0                0              0                  0   \n",
       " 518                0                0              0                  0   \n",
       " 6344               1                0              0                  1   \n",
       " 4082               0                0              0                  0   \n",
       " \n",
       "       tech_support  ...  dsl  fiber_optic  no_internet  monthly  one_year  \\\n",
       " 706              0  ...    0            1            0        1         0   \n",
       " 3590             0  ...    1            0            0        1         0   \n",
       " 4974             1  ...    1            0            0        0         1   \n",
       " 5881             0  ...    0            0            1        0         0   \n",
       " 594              1  ...    0            1            0        1         0   \n",
       " ...            ...  ...  ...          ...          ...      ...       ...   \n",
       " 5081             0  ...    1            0            0        0         1   \n",
       " 1125             0  ...    0            1            0        1         0   \n",
       " 518              0  ...    0            0            1        1         0   \n",
       " 6344             1  ...    0            1            0        0         0   \n",
       " 4082             0  ...    0            0            1        0         1   \n",
       " \n",
       "       two_year  bank_transfer  credit_card  electronic_check  mailed_check  \n",
       " 706          0              0            0                 1             0  \n",
       " 3590         0              0            1                 0             0  \n",
       " 4974         0              0            1                 0             0  \n",
       " 5881         1              0            1                 0             0  \n",
       " 594          0              0            0                 1             0  \n",
       " ...        ...            ...          ...               ...           ...  \n",
       " 5081         0              0            1                 0             0  \n",
       " 1125         0              0            0                 1             0  \n",
       " 518          0              0            0                 0             1  \n",
       " 6344         1              1            0                 0             0  \n",
       " 4082         0              0            1                 0             0  \n",
       " \n",
       " [1691 rows x 27 columns],\n",
       "       senior_citizen  partner  dependents  tenure  phone_service  \\\n",
       " 3960               0        0           0      13              1   \n",
       " 2131               1        0           0      64              1   \n",
       " 5313               0        1           0      54              1   \n",
       " 4295               0        1           1      62              1   \n",
       " 772                0        0           0      38              1   \n",
       " ...              ...      ...         ...     ...            ...   \n",
       " 879                0        0           0       4              1   \n",
       " 4486               0        0           1      35              1   \n",
       " 6227               0        1           1      58              1   \n",
       " 3258               0        0           0      13              1   \n",
       " 815                0        1           1      21              1   \n",
       " \n",
       "       multiple_lines  online_security  online_backup  device_protection  \\\n",
       " 3960               0                0              0                  0   \n",
       " 2131               1                1              1                  0   \n",
       " 5313               1                0              0                  0   \n",
       " 4295               1                0              1                  0   \n",
       " 772                0                1              1                  1   \n",
       " ...              ...              ...            ...                ...   \n",
       " 879                1                0              1                  0   \n",
       " 4486               0                0              0                  1   \n",
       " 6227               1                0              0                  1   \n",
       " 3258               0                1              0                  0   \n",
       " 815                0                0              1                  0   \n",
       " \n",
       "       tech_support  ...  dsl  fiber_optic  no_internet  monthly  one_year  \\\n",
       " 3960             0  ...    0            0            1        0         1   \n",
       " 2131             0  ...    0            1            0        1         0   \n",
       " 5313             0  ...    1            0            0        0         1   \n",
       " 4295             1  ...    0            1            0        0         1   \n",
       " 772              0  ...    0            1            0        1         0   \n",
       " ...            ...  ...  ...          ...          ...      ...       ...   \n",
       " 879              1  ...    0            1            0        1         0   \n",
       " 4486             0  ...    0            1            0        0         1   \n",
       " 6227             1  ...    0            1            0        0         0   \n",
       " 3258             0  ...    1            0            0        1         0   \n",
       " 815              0  ...    0            1            0        1         0   \n",
       " \n",
       "       two_year  bank_transfer  credit_card  electronic_check  mailed_check  \n",
       " 3960         0              0            1                 0             0  \n",
       " 2131         0              1            0                 0             0  \n",
       " 5313         0              0            1                 0             0  \n",
       " 4295         0              0            1                 0             0  \n",
       " 772          0              0            1                 0             0  \n",
       " ...        ...            ...          ...               ...           ...  \n",
       " 879          0              0            0                 1             0  \n",
       " 4486         0              0            0                 1             0  \n",
       " 6227         1              1            0                 0             0  \n",
       " 3258         0              0            0                 1             0  \n",
       " 815          0              1            0                 0             0  \n",
       " \n",
       " [1409 rows x 27 columns])"
      ]
     },
     "execution_count": 4,
     "metadata": {},
     "output_type": "execute_result"
    }
   ],
   "source": [
    "prep_telco_churn(df)"
   ]
  },
  {
   "cell_type": "code",
   "execution_count": 6,
   "metadata": {},
   "outputs": [],
   "source": [
    "train, validate, test = prep_telco_churn(df)"
   ]
  },
  {
   "cell_type": "code",
   "execution_count": null,
   "metadata": {},
   "outputs": [],
   "source": [
    "telco_churn_split(df)"
   ]
  },
  {
   "cell_type": "code",
   "execution_count": 7,
   "metadata": {},
   "outputs": [
    {
     "data": {
      "text/html": [
       "<div>\n",
       "<style scoped>\n",
       "    .dataframe tbody tr th:only-of-type {\n",
       "        vertical-align: middle;\n",
       "    }\n",
       "\n",
       "    .dataframe tbody tr th {\n",
       "        vertical-align: top;\n",
       "    }\n",
       "\n",
       "    .dataframe thead th {\n",
       "        text-align: right;\n",
       "    }\n",
       "</style>\n",
       "<table border=\"1\" class=\"dataframe\">\n",
       "  <thead>\n",
       "    <tr style=\"text-align: right;\">\n",
       "      <th></th>\n",
       "      <th>senior_citizen</th>\n",
       "      <th>partner</th>\n",
       "      <th>dependents</th>\n",
       "      <th>tenure</th>\n",
       "      <th>phone_service</th>\n",
       "      <th>multiple_lines</th>\n",
       "      <th>online_security</th>\n",
       "      <th>online_backup</th>\n",
       "      <th>device_protection</th>\n",
       "      <th>tech_support</th>\n",
       "      <th>...</th>\n",
       "      <th>dsl</th>\n",
       "      <th>fiber_optic</th>\n",
       "      <th>no_internet</th>\n",
       "      <th>monthly</th>\n",
       "      <th>one_year</th>\n",
       "      <th>two_year</th>\n",
       "      <th>bank_transfer</th>\n",
       "      <th>credit_card</th>\n",
       "      <th>electronic_check</th>\n",
       "      <th>mailed_check</th>\n",
       "    </tr>\n",
       "  </thead>\n",
       "  <tbody>\n",
       "    <tr>\n",
       "      <th>1515</th>\n",
       "      <td>1</td>\n",
       "      <td>0</td>\n",
       "      <td>0</td>\n",
       "      <td>25</td>\n",
       "      <td>0</td>\n",
       "      <td>0</td>\n",
       "      <td>0</td>\n",
       "      <td>0</td>\n",
       "      <td>0</td>\n",
       "      <td>0</td>\n",
       "      <td>...</td>\n",
       "      <td>0</td>\n",
       "      <td>1</td>\n",
       "      <td>0</td>\n",
       "      <td>1</td>\n",
       "      <td>0</td>\n",
       "      <td>0</td>\n",
       "      <td>0</td>\n",
       "      <td>0</td>\n",
       "      <td>1</td>\n",
       "      <td>0</td>\n",
       "    </tr>\n",
       "    <tr>\n",
       "      <th>2901</th>\n",
       "      <td>0</td>\n",
       "      <td>0</td>\n",
       "      <td>0</td>\n",
       "      <td>2</td>\n",
       "      <td>0</td>\n",
       "      <td>0</td>\n",
       "      <td>0</td>\n",
       "      <td>0</td>\n",
       "      <td>0</td>\n",
       "      <td>0</td>\n",
       "      <td>...</td>\n",
       "      <td>1</td>\n",
       "      <td>0</td>\n",
       "      <td>0</td>\n",
       "      <td>1</td>\n",
       "      <td>0</td>\n",
       "      <td>0</td>\n",
       "      <td>0</td>\n",
       "      <td>0</td>\n",
       "      <td>1</td>\n",
       "      <td>0</td>\n",
       "    </tr>\n",
       "    <tr>\n",
       "      <th>805</th>\n",
       "      <td>0</td>\n",
       "      <td>0</td>\n",
       "      <td>0</td>\n",
       "      <td>61</td>\n",
       "      <td>0</td>\n",
       "      <td>0</td>\n",
       "      <td>0</td>\n",
       "      <td>0</td>\n",
       "      <td>0</td>\n",
       "      <td>0</td>\n",
       "      <td>...</td>\n",
       "      <td>0</td>\n",
       "      <td>1</td>\n",
       "      <td>0</td>\n",
       "      <td>1</td>\n",
       "      <td>0</td>\n",
       "      <td>0</td>\n",
       "      <td>0</td>\n",
       "      <td>1</td>\n",
       "      <td>0</td>\n",
       "      <td>0</td>\n",
       "    </tr>\n",
       "    <tr>\n",
       "      <th>2234</th>\n",
       "      <td>0</td>\n",
       "      <td>0</td>\n",
       "      <td>0</td>\n",
       "      <td>3</td>\n",
       "      <td>0</td>\n",
       "      <td>0</td>\n",
       "      <td>0</td>\n",
       "      <td>0</td>\n",
       "      <td>0</td>\n",
       "      <td>0</td>\n",
       "      <td>...</td>\n",
       "      <td>0</td>\n",
       "      <td>1</td>\n",
       "      <td>0</td>\n",
       "      <td>1</td>\n",
       "      <td>0</td>\n",
       "      <td>0</td>\n",
       "      <td>0</td>\n",
       "      <td>0</td>\n",
       "      <td>1</td>\n",
       "      <td>0</td>\n",
       "    </tr>\n",
       "    <tr>\n",
       "      <th>6447</th>\n",
       "      <td>0</td>\n",
       "      <td>0</td>\n",
       "      <td>0</td>\n",
       "      <td>63</td>\n",
       "      <td>0</td>\n",
       "      <td>0</td>\n",
       "      <td>0</td>\n",
       "      <td>0</td>\n",
       "      <td>0</td>\n",
       "      <td>0</td>\n",
       "      <td>...</td>\n",
       "      <td>1</td>\n",
       "      <td>0</td>\n",
       "      <td>0</td>\n",
       "      <td>0</td>\n",
       "      <td>0</td>\n",
       "      <td>1</td>\n",
       "      <td>0</td>\n",
       "      <td>1</td>\n",
       "      <td>0</td>\n",
       "      <td>0</td>\n",
       "    </tr>\n",
       "  </tbody>\n",
       "</table>\n",
       "<p>5 rows × 27 columns</p>\n",
       "</div>"
      ],
      "text/plain": [
       "      senior_citizen  partner  dependents  tenure  phone_service  \\\n",
       "1515               1        0           0      25              0   \n",
       "2901               0        0           0       2              0   \n",
       "805                0        0           0      61              0   \n",
       "2234               0        0           0       3              0   \n",
       "6447               0        0           0      63              0   \n",
       "\n",
       "      multiple_lines  online_security  online_backup  device_protection  \\\n",
       "1515               0                0              0                  0   \n",
       "2901               0                0              0                  0   \n",
       "805                0                0              0                  0   \n",
       "2234               0                0              0                  0   \n",
       "6447               0                0              0                  0   \n",
       "\n",
       "      tech_support  ...  dsl  fiber_optic  no_internet  monthly  one_year  \\\n",
       "1515             0  ...    0            1            0        1         0   \n",
       "2901             0  ...    1            0            0        1         0   \n",
       "805              0  ...    0            1            0        1         0   \n",
       "2234             0  ...    0            1            0        1         0   \n",
       "6447             0  ...    1            0            0        0         0   \n",
       "\n",
       "      two_year  bank_transfer  credit_card  electronic_check  mailed_check  \n",
       "1515         0              0            0                 1             0  \n",
       "2901         0              0            0                 1             0  \n",
       "805          0              0            1                 0             0  \n",
       "2234         0              0            0                 1             0  \n",
       "6447         1              0            1                 0             0  \n",
       "\n",
       "[5 rows x 27 columns]"
      ]
     },
     "execution_count": 7,
     "metadata": {},
     "output_type": "execute_result"
    }
   ],
   "source": [
    "train.head()"
   ]
  },
  {
   "cell_type": "code",
   "execution_count": null,
   "metadata": {},
   "outputs": [],
   "source": []
  }
 ],
 "metadata": {
  "kernelspec": {
   "display_name": "Python 3",
   "language": "python",
   "name": "python3"
  },
  "language_info": {
   "codemirror_mode": {
    "name": "ipython",
    "version": 3
   },
   "file_extension": ".py",
   "mimetype": "text/x-python",
   "name": "python",
   "nbconvert_exporter": "python",
   "pygments_lexer": "ipython3",
   "version": "3.8.5"
  }
 },
 "nbformat": 4,
 "nbformat_minor": 4
}
